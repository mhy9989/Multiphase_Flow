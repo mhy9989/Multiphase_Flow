{
 "cells": [
  {
   "cell_type": "code",
   "execution_count": null,
   "metadata": {},
   "outputs": [],
   "source": [
    "import numpy as np\n",
    "input = np.load(\"/root/ML/nc/Model/L_DeepONet-AE-28*28/saved/AE/AE_inputs.npy\")\n",
    "data = np.load(\"/root/ML/nc/Model/L_DeepONet-AE-28*28/saved/AE/AE_preds.npy\")\n",
    "\n",
    "print(input.shape)\n",
    "print(data.shape)\n",
    "\n",
    "data_true = input[:]\n",
    "data_label = data[:]\n",
    "\n",
    "print(data_true.shape)\n",
    "print(data_label.shape)\n",
    "np.save(\"/root/ML/nc/Model/L_DeepONet-DON-28*28/data/AE_lam.npy\", data_label)\n",
    "np.save(\"/root/ML/nc/Model/L_DeepONet-DON-28*28/data/AE_true_norm.npy\", data_label)\n",
    "print(data_label.std())\n",
    "print(data_label.mean())\n",
    "print(data_label.max())\n",
    "print(data_label.min())"
   ]
  },
  {
   "cell_type": "code",
   "execution_count": null,
   "metadata": {},
   "outputs": [],
   "source": [
    "from sklearn.decomposition import PCA\n",
    "import numpy as np\n",
    "\n",
    "def NormalizeData(data):\n",
    "    return (data - np.min(data)) / (np.max(data) - np.min(data))\n",
    "\n",
    "\n",
    "pca = PCA(n_components=144)\n",
    "all_data = np.load(\"/root/MPF/data-pre/fluidisedBed/data_air/dataset.npy\")\n",
    "input_org = all_data[:,0]\n",
    "print(input_org.shape)\n",
    "input_reshape = input_org.reshape(1001,-1)\n",
    "print(input_reshape.shape)\n",
    "\n",
    "\n",
    "print(input_reshape.std())\n",
    "print(input_reshape.mean())\n",
    "print(input_reshape.max())\n",
    "print(input_reshape.min())\n",
    "print()\n",
    "x_norm = NormalizeData(input_reshape)\n",
    "\n",
    "print(x_norm.std())\n",
    "print(x_norm.mean())\n",
    "print(x_norm.max())\n",
    "print(x_norm.min())\n",
    "\n",
    "print()\n",
    "x_red = pca.fit_transform(x_norm)\n",
    "print(x_red.shape)\n",
    "np.save(\"/root/ML/nc/Model/L_DeepONet-DON-28*28/data/AE_inputs.npy\", x_red)\n",
    "print(x_red.std())\n",
    "print(x_red.mean())\n",
    "print(x_red.max())\n",
    "print(x_red.min())"
   ]
  },
  {
   "cell_type": "code",
   "execution_count": null,
   "metadata": {},
   "outputs": [],
   "source": [
    "import torch\n",
    "\n",
    "B, latent_dim, p = 3, 4, 5\n",
    "n = 6\n",
    "\n",
    "array1 = torch.randn(B, latent_dim, p) \n",
    "array2 = torch.randn(n, latent_dim, p) \n",
    "\n",
    "result = torch.einsum('ijk,pjk->ij', array1, array2)\n",
    "\n",
    "print(result.shape)  # (B, 1, latent_dim)"
   ]
  }
 ],
 "metadata": {
  "kernelspec": {
   "display_name": "Python 3",
   "language": "python",
   "name": "python3"
  },
  "language_info": {
   "codemirror_mode": {
    "name": "ipython",
    "version": 3
   },
   "file_extension": ".py",
   "mimetype": "text/x-python",
   "name": "python",
   "nbconvert_exporter": "python",
   "pygments_lexer": "ipython3",
   "version": "3.8.10"
  }
 },
 "nbformat": 4,
 "nbformat_minor": 2
}
