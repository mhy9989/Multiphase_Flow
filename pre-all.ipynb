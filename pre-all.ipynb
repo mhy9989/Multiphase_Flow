{
 "cells": [
  {
   "cell_type": "markdown",
   "metadata": {},
   "source": [
    "## DON & EN_DON"
   ]
  },
  {
   "cell_type": "markdown",
   "metadata": {},
   "source": [
    "### label (lam)"
   ]
  },
  {
   "cell_type": "code",
   "execution_count": null,
   "metadata": {},
   "outputs": [],
   "source": [
    "import numpy as np\n",
    "input = np.load(\"./Model/L_DeepONet-AE-lr-std-1e-4/saved/AE/AE_inputs.npy\")\n",
    "data = np.load(\"./Model/L_DeepONet-AE-lr-std-1e-4/saved/AE/AE_preds.npy\")\n",
    "\n",
    "print(input.shape)\n",
    "print(data.shape)\n",
    "\n",
    "data_true = input[:,1:]\n",
    "data_label = data[:,1:]\n",
    "\n",
    "print(data_true.shape)\n",
    "print(data_label.shape)\n",
    "np.save(\"./Model/L_DeepONet-DON-gelu/data/AE_lam.npy\", data_label)\n",
    "np.save(\"./Model/L_DeepONet-DON-gelu/data/AE_true_norm.npy\", data_label)\n",
    "print(data_label.mean())\n",
    "print(data_label.std())\n",
    "print(data_label.max())\n",
    "print(data_label.min())"
   ]
  },
  {
   "cell_type": "markdown",
   "metadata": {},
   "source": [
    "### inputs (lam)"
   ]
  },
  {
   "cell_type": "code",
   "execution_count": null,
   "metadata": {},
   "outputs": [],
   "source": [
    "import numpy as np\n",
    "data = np.load(\"./Model/L_DeepONet-AE-lr-std-1e-4/saved/AE/AE_preds.npy\")\n",
    "\n",
    "print(data.shape)\n",
    "\n",
    "x_red = data[:,0]\n",
    "\n",
    "print(x_red.shape)\n",
    "np.save(\"./Model/L_DeepONet-DON-gelu/data/AE_inputs.npy\", x_red)\n",
    "print(data.mean())\n",
    "print(data.std())\n",
    "print(data.max())\n",
    "print(data.min())"
   ]
  },
  {
   "cell_type": "markdown",
   "metadata": {},
   "source": [
    "### inputs (EN)"
   ]
  },
  {
   "cell_type": "code",
   "execution_count": null,
   "metadata": {},
   "outputs": [],
   "source": [
    "import numpy as np\n",
    "input = np.load(\"/root/MPF/data-pre/fluidisedBed/data-u0.1/dataset.npy\")\n",
    "\n",
    "print(input.shape)\n",
    "\n",
    "data = input[:,0]\n",
    "\n",
    "print(data.mean())\n",
    "print(data.std())\n",
    "print(data.max())\n",
    "print(data.min())\n",
    "np.save(\"./Model/L_DeepONet-EN_DON-gelu/data/EN_inputs.npy\", data)"
   ]
  },
  {
   "cell_type": "markdown",
   "metadata": {},
   "source": [
    "### inputs (PCA)"
   ]
  },
  {
   "cell_type": "code",
   "execution_count": null,
   "metadata": {},
   "outputs": [],
   "source": [
    "from sklearn.decomposition import PCA\n",
    "import numpy as np\n",
    "\n",
    "def NormalizeData(data):\n",
    "    return (data - np.mean(data)) / (np.std(data))\n",
    "\n",
    "pca = PCA(n_components=256)\n",
    "input = np.load(\"/root/MPF/data-pre/fluidisedBed/data-u0.1/dataset.npy\")\n",
    "input_org = input[:,0]\n",
    "print(input_org.shape)\n",
    "input_reshape = input_org.reshape(1001,-1)\n",
    "print(input_reshape.shape)\n",
    "\n",
    "\n",
    "print(input_reshape.std())\n",
    "print(input_reshape.mean())\n",
    "print(input_reshape.max())\n",
    "print(input_reshape.min())\n",
    "print()\n",
    "x_norm = NormalizeData(input_reshape)\n",
    "\n",
    "print()\n",
    "x_red = pca.fit_transform(x_norm)\n",
    "print(x_red.shape)\n",
    "np.save(\"/root/ML/nc/Model/L_DeepONet-DON-28*28/data/AE_inputs.npy\", x_red)\n"
   ]
  },
  {
   "cell_type": "markdown",
   "metadata": {},
   "source": [
    "## AE"
   ]
  },
  {
   "cell_type": "code",
   "execution_count": null,
   "metadata": {},
   "outputs": [],
   "source": [
    "import numpy as np\n",
    "input = np.load(\"/root/MPF/data-pre/fluidisedBed/data-u0.1-air/dataset.npy\")\n",
    "\n",
    "print(input.shape)\n",
    "\n",
    "data = input\n",
    "\n",
    "print(data.mean())\n",
    "print(data.std())\n",
    "print(data.max())\n",
    "print(data.min())"
   ]
  },
  {
   "cell_type": "markdown",
   "metadata": {},
   "source": [
    "## AE_DON & CFD"
   ]
  },
  {
   "cell_type": "markdown",
   "metadata": {},
   "source": [
    "### inputs"
   ]
  },
  {
   "cell_type": "code",
   "execution_count": null,
   "metadata": {},
   "outputs": [],
   "source": [
    "import numpy as np\n",
    "input = np.load(\"/root/MPF/data-pre/fluidisedBed/data-u0.1-air/dataset.npy\")\n",
    "\n",
    "print(input.shape)\n",
    "\n",
    "data = input[:,0]\n",
    "\n",
    "print(data.mean())\n",
    "print(data.std())\n",
    "print(data.max())\n",
    "print(data.min())"
   ]
  },
  {
   "cell_type": "markdown",
   "metadata": {},
   "source": [
    "### labls"
   ]
  },
  {
   "cell_type": "code",
   "execution_count": null,
   "metadata": {},
   "outputs": [],
   "source": [
    "import numpy as np\n",
    "input = np.load(\"/root/MPF/data-pre/fluidisedBed/data-u0.1-air/dataset.npy\")\n",
    "\n",
    "print(input.shape)\n",
    "\n",
    "data = input[:,1:]\n",
    "\n",
    "print(data.mean())\n",
    "print(data.std())\n",
    "print(data.max())\n",
    "print(data.min())"
   ]
  }
 ],
 "metadata": {
  "kernelspec": {
   "display_name": "Python 3",
   "language": "python",
   "name": "python3"
  },
  "language_info": {
   "codemirror_mode": {
    "name": "ipython",
    "version": 3
   },
   "file_extension": ".py",
   "mimetype": "text/x-python",
   "name": "python",
   "nbconvert_exporter": "python",
   "pygments_lexer": "ipython3",
   "version": "3.8.10"
  }
 },
 "nbformat": 4,
 "nbformat_minor": 2
}
