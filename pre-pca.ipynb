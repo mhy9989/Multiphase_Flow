{
 "cells": [
  {
   "cell_type": "code",
   "execution_count": 5,
   "metadata": {},
   "outputs": [
    {
     "name": "stdout",
     "output_type": "stream",
     "text": [
      "(1001, 10, 128, 128)\n",
      "(1001, 10, 144)\n",
      "(1001, 10, 128, 128)\n",
      "(1001, 10, 144)\n",
      "5.6893315\n",
      "1.076525\n",
      "111.73546\n",
      "-1.647115\n"
     ]
    }
   ],
   "source": [
    "import numpy as np\n",
    "input = np.load(\"/root/ML/nc/Model/L_DeepONet-AE-28*28/saved/AE/AE_inputs.npy\")\n",
    "data = np.load(\"/root/ML/nc/Model/L_DeepONet-AE-28*28/saved/AE/AE_preds.npy\")\n",
    "\n",
    "print(input.shape)\n",
    "print(data.shape)\n",
    "\n",
    "data_true = input[:]\n",
    "data_label = data[:]\n",
    "\n",
    "print(data_true.shape)\n",
    "print(data_label.shape)\n",
    "np.save(\"/root/ML/nc/Model/L_DeepONet-DON-28*28/data/AE_lam.npy\", data_label)\n",
    "np.save(\"/root/ML/nc/Model/L_DeepONet-DON-28*28/data/AE_true_norm.npy\", data_label)\n",
    "print(data_label.std())\n",
    "print(data_label.mean())\n",
    "print(data_label.max())\n",
    "print(data_label.min())"
   ]
  },
  {
   "cell_type": "code",
   "execution_count": 4,
   "metadata": {},
   "outputs": [
    {
     "name": "stdout",
     "output_type": "stream",
     "text": [
      "(1001, 128, 128)\n",
      "(1001, 16384)\n",
      "0.2527868703791703\n",
      "0.24968651348651327\n",
      "0.5964\n",
      "0.0\n",
      "\n",
      "0.42385457810055227\n",
      "0.41865612589958606\n",
      "1.0\n",
      "0.0\n",
      "\n",
      "(1001, 144)\n",
      "0.7059167138877392\n",
      "-7.185086383366092e-16\n",
      "15.080851238558905\n",
      "-14.724814076003101\n"
     ]
    }
   ],
   "source": [
    "from sklearn.decomposition import PCA\n",
    "import numpy as np\n",
    "\n",
    "def NormalizeData(data):\n",
    "    return (data - np.min(data)) / (np.max(data) - np.min(data))\n",
    "\n",
    "\n",
    "pca = PCA(n_components=144)\n",
    "all_data = np.load(\"/root/MPF/data-pre/fluidisedBed/data_air/dataset.npy\")\n",
    "input_org = all_data[:,0]\n",
    "print(input_org.shape)\n",
    "input_reshape = input_org.reshape(1001,-1)\n",
    "print(input_reshape.shape)\n",
    "\n",
    "\n",
    "print(input_reshape.std())\n",
    "print(input_reshape.mean())\n",
    "print(input_reshape.max())\n",
    "print(input_reshape.min())\n",
    "print()\n",
    "x_norm = NormalizeData(input_reshape)\n",
    "\n",
    "print(x_norm.std())\n",
    "print(x_norm.mean())\n",
    "print(x_norm.max())\n",
    "print(x_norm.min())\n",
    "\n",
    "print()\n",
    "x_red = pca.fit_transform(x_norm)\n",
    "print(x_red.shape)\n",
    "np.save(\"/root/ML/nc/Model/L_DeepONet-DON-28*28/data/AE_inputs.npy\", x_red)\n",
    "print(x_red.std())\n",
    "print(x_red.mean())\n",
    "print(x_red.max())\n",
    "print(x_red.min())"
   ]
  },
  {
   "cell_type": "markdown",
   "metadata": {},
   "source": [
    "                                data_org = [1001, 11, 128, 128] - > data_org_norm = [1001, 10, 128, 128] # without start\n",
    "\n",
    "data_org_norm = [1001, 10, 128, 128] - > data_lat = [1001, 10, 1024] # latent_dim -> AE_preds.npy\n",
    "\n",
    "data_lat = [1001, 10, 1024] - > data_lat_norm = [1001, 10, 1024] # latent label\n",
    "\n",
    "\n",
    "data_org = [1001, 11, 128, 128] - > data_pca = [1001, 1024] - >  data_pca_norm = [1001, 1024]  # input \n",
    "\n",
    "input: data_pca_norm\n",
    "\n",
    "label: data_lat_norm\n",
    "\n",
    "data_lat_norm = [1001, 10, 1024] -> data_lat_out = [1001, 10, 1024] ->  data_decoder_norm = [1001, 10, 1024] ->  data_decoder = [1001, 10, 1024] "
   ]
  },
  {
   "cell_type": "code",
   "execution_count": 10,
   "metadata": {},
   "outputs": [
    {
     "ename": "RuntimeError",
     "evalue": "einsum(): invalid subscript given at index 10 in the equation string, subscripts must be in [a-zA-Z]",
     "output_type": "error",
     "traceback": [
      "\u001b[0;31m---------------------------------------------------------------------------\u001b[0m",
      "\u001b[0;31mRuntimeError\u001b[0m                              Traceback (most recent call last)",
      "Cell \u001b[0;32mIn[10], line 11\u001b[0m\n\u001b[1;32m      8\u001b[0m array2 \u001b[38;5;241m=\u001b[39m torch\u001b[38;5;241m.\u001b[39mrandn(n, latent_dim, p)  \u001b[38;5;66;03m# 形状 (n, latent_dim, p)\u001b[39;00m\n\u001b[1;32m     10\u001b[0m \u001b[38;5;66;03m# 使用爱因斯坦求和约定，将 p 维度进行求和，并将第二个张量的前 B 行与第一个张量匹配\u001b[39;00m\n\u001b[0;32m---> 11\u001b[0m result \u001b[38;5;241m=\u001b[39m \u001b[43mtorch\u001b[49m\u001b[38;5;241;43m.\u001b[39;49m\u001b[43meinsum\u001b[49m\u001b[43m(\u001b[49m\u001b[38;5;124;43m'\u001b[39;49m\u001b[38;5;124;43mijk,pjk->i1j\u001b[39;49m\u001b[38;5;124;43m'\u001b[39;49m\u001b[43m,\u001b[49m\u001b[43m \u001b[49m\u001b[43marray1\u001b[49m\u001b[43m,\u001b[49m\u001b[43m \u001b[49m\u001b[43marray2\u001b[49m\u001b[43m)\u001b[49m\n\u001b[1;32m     13\u001b[0m \u001b[38;5;28mprint\u001b[39m(result\u001b[38;5;241m.\u001b[39mshape)\n",
      "File \u001b[0;32m/usr/local/lib/python3.8/dist-packages/torch/functional.py:378\u001b[0m, in \u001b[0;36meinsum\u001b[0;34m(*args)\u001b[0m\n\u001b[1;32m    373\u001b[0m     \u001b[38;5;28;01mreturn\u001b[39;00m einsum(equation, \u001b[38;5;241m*\u001b[39m_operands)\n\u001b[1;32m    375\u001b[0m \u001b[38;5;28;01mif\u001b[39;00m \u001b[38;5;28mlen\u001b[39m(operands) \u001b[38;5;241m<\u001b[39m\u001b[38;5;241m=\u001b[39m \u001b[38;5;241m2\u001b[39m \u001b[38;5;129;01mor\u001b[39;00m \u001b[38;5;129;01mnot\u001b[39;00m opt_einsum\u001b[38;5;241m.\u001b[39menabled:\n\u001b[1;32m    376\u001b[0m     \u001b[38;5;66;03m# the path for contracting 0 or 1 time(s) is already optimized\u001b[39;00m\n\u001b[1;32m    377\u001b[0m     \u001b[38;5;66;03m# or the user has disabled using opt_einsum\u001b[39;00m\n\u001b[0;32m--> 378\u001b[0m     \u001b[38;5;28;01mreturn\u001b[39;00m \u001b[43m_VF\u001b[49m\u001b[38;5;241;43m.\u001b[39;49m\u001b[43meinsum\u001b[49m\u001b[43m(\u001b[49m\u001b[43mequation\u001b[49m\u001b[43m,\u001b[49m\u001b[43m \u001b[49m\u001b[43moperands\u001b[49m\u001b[43m)\u001b[49m  \u001b[38;5;66;03m# type: ignore[attr-defined]\u001b[39;00m\n\u001b[1;32m    380\u001b[0m path \u001b[38;5;241m=\u001b[39m \u001b[38;5;28;01mNone\u001b[39;00m\n\u001b[1;32m    381\u001b[0m \u001b[38;5;28;01mif\u001b[39;00m opt_einsum\u001b[38;5;241m.\u001b[39mis_available():\n",
      "\u001b[0;31mRuntimeError\u001b[0m: einsum(): invalid subscript given at index 10 in the equation string, subscripts must be in [a-zA-Z]"
     ]
    }
   ],
   "source": [
    "import torch\n",
    "\n",
    "# 假设我们有两个张量\n",
    "B, latent_dim, p = 3, 4, 5\n",
    "n = 6\n",
    "\n",
    "array1 = torch.randn(B, latent_dim, p)  # 形状 (B, latent_dim, p)\n",
    "array2 = torch.randn(n, latent_dim, p)  # 形状 (n, latent_dim, p)\n",
    "\n",
    "# 使用爱因斯坦求和约定，将 p 维度进行求和，并将第二个张量的前 B 行与第一个张量匹配\n",
    "result = torch.einsum('ijk,pjk->ij', array1, array2)\n",
    "\n",
    "print(result.shape)  # (B, 1, latent_dim)"
   ]
  }
 ],
 "metadata": {
  "kernelspec": {
   "display_name": "Python 3",
   "language": "python",
   "name": "python3"
  },
  "language_info": {
   "codemirror_mode": {
    "name": "ipython",
    "version": 3
   },
   "file_extension": ".py",
   "mimetype": "text/x-python",
   "name": "python",
   "nbconvert_exporter": "python",
   "pygments_lexer": "ipython3",
   "version": "3.8.10"
  }
 },
 "nbformat": 4,
 "nbformat_minor": 2
}
